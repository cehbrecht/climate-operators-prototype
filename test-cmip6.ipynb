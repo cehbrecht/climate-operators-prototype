{
 "cells": [
  {
   "cell_type": "markdown",
   "metadata": {},
   "source": [
    "## Subset CMIP6"
   ]
  },
  {
   "cell_type": "code",
   "execution_count": null,
   "metadata": {},
   "outputs": [],
   "source": [
    "import xarray as xr\n",
    "cmip6_nc = '/work/ik1017/CMIP6/data/CMIP6/CMIP/MPI-M/MPI-ESM1-2-HR/historical/r1i1p1f1/3hr/tas/gn/v20190710/tas_3hr_MPI-ESM1-2-HR_historical_r1i1p1f1_gn_188001010300-188501010000.nc'\n",
    "ds = xr.open_dataset(cmip6_nc, chunks={'time': 10})\n",
    "print(ds)"
   ]
  },
  {
   "cell_type": "code",
   "execution_count": null,
   "metadata": {},
   "outputs": [],
   "source": [
    "da = ds['tas']\n",
    "da = da.isel(time=slice(0, 1))\n",
    "da = da.sel(lat=slice(-50, 50), lon=slice(0, 50))"
   ]
  },
  {
   "cell_type": "code",
   "execution_count": null,
   "metadata": {},
   "outputs": [],
   "source": [
    "%matplotlib inline\n",
    "da.plot()"
   ]
  },
  {
   "cell_type": "code",
   "execution_count": null,
   "metadata": {},
   "outputs": [],
   "source": [
    "da.to_netcdf('/Users/pingu/tmp/test.nc')"
   ]
  },
  {
   "cell_type": "markdown",
   "metadata": {},
   "source": [
    "## using xncml"
   ]
  },
  {
   "cell_type": "code",
   "execution_count": null,
   "metadata": {},
   "outputs": [],
   "source": [
    "import pyncml\n",
    "import xncml"
   ]
  },
  {
   "cell_type": "code",
   "execution_count": null,
   "metadata": {},
   "outputs": [],
   "source": [
    "ncml = \"\"\"<?xml version=\"1.0\" encoding=\"UTF-8\"?>\n",
    "         <netcdf xmlns=\"http://www.unidata.ucar.edu/namespaces/netcdf/ncml-2.2\">\n",
    "             <aggregation dimName=\"time\" type=\"joinExisting\">\n",
    "                 <scan \n",
    "                     location=\"/work/ik1017/CMIP6/data/CMIP6/CMIP/MPI-M/MPI-ESM1-2-HR/historical/r1i1p1f1/3hr/tas/gn/v20190710\" \n",
    "                     suffix=\".nc\" \n",
    "                     subdirs=\"false\" />\n",
    "            </aggregation>\n",
    "         </netcdf>\n",
    "\"\"\"\n"
   ]
  },
  {
   "cell_type": "code",
   "execution_count": null,
   "metadata": {},
   "outputs": [],
   "source": [
    "pyncml.scan(ncml=ncml)"
   ]
  },
  {
   "cell_type": "code",
   "execution_count": null,
   "metadata": {},
   "outputs": [],
   "source": [
    "ncml_cmip6 = \"\"\"<?xml version=\"1.0\" encoding=\"UTF-8\"?>\n",
    "         <netcdf xmlns=\"http://www.unidata.ucar.edu/namespaces/netcdf/ncml-2.2\">\n",
    "             <attribute name=\"parent_time_units\" type=\"string\" value=\"days since 1870-01-01 00:00:00\" />\n",
    "         </netcdf>    \n",
    "\"\"\"\n"
   ]
  },
  {
   "cell_type": "code",
   "execution_count": null,
   "metadata": {},
   "outputs": [],
   "source": [
    "pyncml.apply(input_file='/Users/pingu/tmp/test.nc', ncml=ncml_cmip6, output_file='/Users/pingu/tmp/test_fixed.nc')"
   ]
  },
  {
   "cell_type": "code",
   "execution_count": null,
   "metadata": {},
   "outputs": [],
   "source": [
    "ds = xr.open_dataset('/Users/pingu/tmp/test_fixed.nc')\n",
    "print(ds)"
   ]
  },
  {
   "cell_type": "code",
   "execution_count": null,
   "metadata": {},
   "outputs": [],
   "source": [
    "xncml.Dataset?\n"
   ]
  },
  {
   "cell_type": "code",
   "execution_count": null,
   "metadata": {},
   "outputs": [],
   "source": []
  }
 ],
 "metadata": {
  "kernelspec": {
   "display_name": "Python 3",
   "language": "python",
   "name": "python3"
  },
  "language_info": {
   "codemirror_mode": {
    "name": "ipython",
    "version": 3
   },
   "file_extension": ".py",
   "mimetype": "text/x-python",
   "name": "python",
   "nbconvert_exporter": "python",
   "pygments_lexer": "ipython3",
   "version": "3.8.1"
  }
 },
 "nbformat": 4,
 "nbformat_minor": 4
}
